{
 "cells": [
  {
   "cell_type": "markdown",
   "id": "1cfefd6b-7eb5-438f-bc8a-86ab3225c49e",
   "metadata": {},
   "source": [
    "# 10 Animals classification\n",
    "\n",
    "https://www.kaggle.com/datasets/alessiocorrado99/animals10"
   ]
  },
  {
   "cell_type": "markdown",
   "id": "d8bd13f4-0a96-488c-bdc6-7a85852e25fa",
   "metadata": {},
   "source": [
    "## Download and preparation\n",
    "\n",
    "* Donwload the data from Kaggle\n",
    "* Unzip the file\n",
    "* Prepare the data in appropriate folder structure splitting randomnly into test and train datasets"
   ]
  },
  {
   "cell_type": "code",
   "execution_count": 113,
   "id": "40f3d998-a6f0-45e4-b1fc-dabf0ab14e84",
   "metadata": {},
   "outputs": [],
   "source": [
    "import os\n",
    "from pathlib import Path\n",
    "import zipfile\n",
    "import random\n",
    "import pandas as pd\n",
    "import shutil"
   ]
  },
  {
   "cell_type": "code",
   "execution_count": 12,
   "id": "df72e00d-26a5-451d-b734-17ad7aee02ca",
   "metadata": {},
   "outputs": [],
   "source": [
    "os.chdir(\"../10animals\")"
   ]
  },
  {
   "cell_type": "code",
   "execution_count": 142,
   "id": "c66749ba-8cc7-48a7-9f9b-12a1b1cb9f75",
   "metadata": {},
   "outputs": [
    {
     "name": "stdout",
     "output_type": "stream",
     "text": [
      "Dataset URL: https://www.kaggle.com/datasets/alessiocorrado99/animals10\n",
      "License(s): GPL-2.0\n",
      "animals10.zip: Skipping, found more recently modified local copy (use --force to force download)\n"
     ]
    }
   ],
   "source": [
    "!kaggle datasets download -d alessiocorrado99/animals10"
   ]
  },
  {
   "cell_type": "code",
   "execution_count": 144,
   "id": "7ab34a06-6767-4be6-996f-6c90f4ae2d74",
   "metadata": {},
   "outputs": [
    {
     "name": "stdout",
     "output_type": "stream",
     "text": [
      "Unzipping animals...\n"
     ]
    }
   ],
   "source": [
    "with zipfile.ZipFile(\"animals10.zip\", \"r\") as zip_ref:\n",
    "    print(\"Unzipping animals...\")\n",
    "    zip_ref.extractall(\"../10animals\")"
   ]
  },
  {
   "cell_type": "code",
   "execution_count": 146,
   "id": "c8ab757c-7720-402a-b533-86b187714dc7",
   "metadata": {},
   "outputs": [
    {
     "data": {
      "text/plain": [
       "[PosixPath('raw-img/gallina'),\n",
       " PosixPath('raw-img/ragno'),\n",
       " PosixPath('raw-img/gatto'),\n",
       " PosixPath('raw-img/farfalla'),\n",
       " PosixPath('raw-img/mucca'),\n",
       " PosixPath('raw-img/cavallo'),\n",
       " PosixPath('raw-img/cane'),\n",
       " PosixPath('raw-img/pecora'),\n",
       " PosixPath('raw-img/scoiattolo'),\n",
       " PosixPath('raw-img/elefante')]"
      ]
     },
     "execution_count": 146,
     "metadata": {},
     "output_type": "execute_result"
    }
   ],
   "source": [
    "animal_folders = list(Path(\"raw-img/\").glob(\"*/\"))\n",
    "animal_folders"
   ]
  },
  {
   "cell_type": "code",
   "execution_count": 148,
   "id": "f73379cb-8876-40f0-ab17-2dae0269040c",
   "metadata": {},
   "outputs": [],
   "source": [
    "train_dir = Path(\"train/\")\n",
    "test_dir = Path(\"test/\")\n",
    "train_dir.mkdir()\n",
    "test_dir.mkdir()"
   ]
  },
  {
   "cell_type": "code",
   "execution_count": 152,
   "id": "21760ba3-3d13-430a-b687-8613e4488aa6",
   "metadata": {},
   "outputs": [
    {
     "name": "stdout",
     "output_type": "stream",
     "text": [
      "There are 3098 in the gallina folder\n",
      "2478 620 3098\n",
      "There are 4821 in the ragno folder\n",
      "3856 965 4821\n",
      "There are 1668 in the gatto folder\n",
      "1334 334 1668\n",
      "There are 2112 in the farfalla folder\n",
      "1689 423 2112\n",
      "There are 1866 in the mucca folder\n",
      "1492 374 1866\n",
      "There are 2623 in the cavallo folder\n",
      "2098 525 2623\n",
      "There are 4863 in the cane folder\n",
      "3890 973 4863\n",
      "There are 1820 in the pecora folder\n",
      "1456 364 1820\n",
      "There are 1862 in the scoiattolo folder\n",
      "1489 373 1862\n",
      "There are 1446 in the elefante folder\n",
      "1156 290 1446\n"
     ]
    }
   ],
   "source": [
    "for animal in animal_folders:\n",
    "    # destination folders\n",
    "    destination_train = train_dir / animal.name\n",
    "    destination_train.mkdir(parents=True, exist_ok=True)\n",
    "    destination_test = test_dir / animal.name\n",
    "    destination_test.mkdir(parents=True, exist_ok=True)\n",
    "    # list of images to be moved\n",
    "    img_list = pd.DataFrame(list(animal.glob(\"*.jpg\")) + list(animal.glob(\"*.jpeg\")) + list(animal.glob(\"*.png\")))\n",
    "    print(f\"There are {len(img_list)} in the {animal.name} folder\")\n",
    "    train_size = int(len(img_list)*0.8)\n",
    "    train_img = img_list.iloc[:train_size]\n",
    "    test_img = img_list.iloc[train_size:]\n",
    "    print(len(train_img), len(test_img), len(img_list))\n",
    "    # moving the files\n",
    "    for file_name in train_img.iloc[:,0]:\n",
    "        shutil.move(os.path.join(animal, Path(file_name).name), destination_train)\n",
    "    for file_name in test_img.iloc[:,0]:\n",
    "        shutil.move(os.path.join(animal, Path(file_name).name), destination_test)\n",
    "    os.rmdir(animal)\n",
    "os.rmdir(animal_folders[1].parent)"
   ]
  },
  {
   "cell_type": "code",
   "execution_count": 154,
   "id": "c0514901-ad71-4a02-8a65-9d7c2824887e",
   "metadata": {},
   "outputs": [],
   "source": [
    "os.rmdir(animal_folders[1].parent)"
   ]
  },
  {
   "cell_type": "code",
   "execution_count": null,
   "id": "bc1829a5-c09e-4741-8d9d-87e368fcf4ae",
   "metadata": {},
   "outputs": [],
   "source": []
  }
 ],
 "metadata": {
  "kernelspec": {
   "display_name": "Python 3 (ipykernel)",
   "language": "python",
   "name": "python3"
  },
  "language_info": {
   "codemirror_mode": {
    "name": "ipython",
    "version": 3
   },
   "file_extension": ".py",
   "mimetype": "text/x-python",
   "name": "python",
   "nbconvert_exporter": "python",
   "pygments_lexer": "ipython3",
   "version": "3.12.4"
  }
 },
 "nbformat": 4,
 "nbformat_minor": 5
}
