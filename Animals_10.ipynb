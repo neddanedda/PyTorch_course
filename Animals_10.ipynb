{
 "cells": [
  {
   "cell_type": "markdown",
   "id": "1cfefd6b-7eb5-438f-bc8a-86ab3225c49e",
   "metadata": {},
   "source": [
    "# 10 Animals classification\n",
    "\n",
    "https://www.kaggle.com/datasets/alessiocorrado99/animals10"
   ]
  },
  {
   "cell_type": "markdown",
   "id": "d8bd13f4-0a96-488c-bdc6-7a85852e25fa",
   "metadata": {},
   "source": [
    "## Download and preparation\n",
    "\n",
    "* Donwload the data from Kaggle\n",
    "* Unzip the file\n",
    "* Prepare the data in appropriate folder structure splitting randomnly into test and train datasets"
   ]
  },
  {
   "cell_type": "code",
   "execution_count": 21,
   "id": "40f3d998-a6f0-45e4-b1fc-dabf0ab14e84",
   "metadata": {},
   "outputs": [],
   "source": [
    "import os\n",
    "from pathlib import Path\n",
    "import zipfile"
   ]
  },
  {
   "cell_type": "code",
   "execution_count": 12,
   "id": "df72e00d-26a5-451d-b734-17ad7aee02ca",
   "metadata": {},
   "outputs": [],
   "source": [
    "os.chdir(\"../10animals\")"
   ]
  },
  {
   "cell_type": "code",
   "execution_count": 17,
   "id": "c66749ba-8cc7-48a7-9f9b-12a1b1cb9f75",
   "metadata": {},
   "outputs": [
    {
     "name": "stdout",
     "output_type": "stream",
     "text": [
      "Dataset URL: https://www.kaggle.com/datasets/alessiocorrado99/animals10\n",
      "License(s): GPL-2.0\n",
      "Downloading animals10.zip to /Users/neddacecchinato/Documents/Python/10animals\n",
      "100%|████████████████████████████████████████| 586M/586M [01:04<00:00, 10.2MB/s]\n",
      "100%|████████████████████████████████████████| 586M/586M [01:04<00:00, 9.47MB/s]\n"
     ]
    }
   ],
   "source": [
    "!kaggle datasets download -d alessiocorrado99/animals10"
   ]
  },
  {
   "cell_type": "code",
   "execution_count": 25,
   "id": "7ab34a06-6767-4be6-996f-6c90f4ae2d74",
   "metadata": {},
   "outputs": [
    {
     "name": "stdout",
     "output_type": "stream",
     "text": [
      "Unzipping animals...\n"
     ]
    }
   ],
   "source": [
    "with zipfile.ZipFile(\"animals10.zip\", \"r\") as zip_ref:\n",
    "    print(\"Unzipping animals...\")\n",
    "    zip_ref.extractall(\"../10animals\")"
   ]
  },
  {
   "cell_type": "markdown",
   "id": "6c101ff1-47c1-4630-8cfc-cfcbedf3fca0",
   "metadata": {},
   "source": [
    "animal_folders = list("
   ]
  },
  {
   "cell_type": "code",
   "execution_count": null,
   "id": "21760ba3-3d13-430a-b687-8613e4488aa6",
   "metadata": {},
   "outputs": [],
   "source": [
    "ddd"
   ]
  },
  {
   "cell_type": "code",
   "execution_count": null,
   "id": "bc1829a5-c09e-4741-8d9d-87e368fcf4ae",
   "metadata": {},
   "outputs": [],
   "source": []
  }
 ],
 "metadata": {
  "kernelspec": {
   "display_name": "Python 3 (ipykernel)",
   "language": "python",
   "name": "python3"
  },
  "language_info": {
   "codemirror_mode": {
    "name": "ipython",
    "version": 3
   },
   "file_extension": ".py",
   "mimetype": "text/x-python",
   "name": "python",
   "nbconvert_exporter": "python",
   "pygments_lexer": "ipython3",
   "version": "3.12.4"
  }
 },
 "nbformat": 4,
 "nbformat_minor": 5
}
